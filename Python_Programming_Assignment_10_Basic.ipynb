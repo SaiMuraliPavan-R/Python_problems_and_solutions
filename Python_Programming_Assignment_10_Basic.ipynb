{
  "nbformat": 4,
  "nbformat_minor": 0,
  "metadata": {
    "colab": {
      "name": "Python_Programming_Assignment_10_Basic.ipynb",
      "provenance": [],
      "collapsed_sections": [],
      "authorship_tag": "ABX9TyMhaLLPA+I9GLz5d+BL7WTq"
    },
    "kernelspec": {
      "name": "python3",
      "display_name": "Python 3"
    },
    "language_info": {
      "name": "python"
    }
  },
  "cells": [
    {
      "cell_type": "markdown",
      "source": [
        "#Python_Programming_Assignment_10_Basic\n",
        "\n",
        "By Sai Murali Pavan Rayavarapu"
      ],
      "metadata": {
        "id": "38Y3mWPaR7Tl"
      }
    },
    {
      "cell_type": "markdown",
      "source": [
        "## import modules"
      ],
      "metadata": {
        "id": "_atTD29WTd_U"
      }
    },
    {
      "cell_type": "code",
      "source": [
        "from functools import reduce"
      ],
      "metadata": {
        "id": "WjKJc0PtThhq"
      },
      "execution_count": 3,
      "outputs": []
    },
    {
      "cell_type": "markdown",
      "source": [
        "##Write a Python program to find sum of elements in list?"
      ],
      "metadata": {
        "id": "BQJJb-ntR9Yh"
      }
    },
    {
      "cell_type": "code",
      "execution_count": 2,
      "metadata": {
        "colab": {
          "base_uri": "https://localhost:8080/"
        },
        "id": "VpQqiyexR3DL",
        "outputId": "520d351a-541a-4d2f-d2ca-6d42f98d4365"
      },
      "outputs": [
        {
          "output_type": "stream",
          "name": "stdout",
          "text": [
            "summation using loops 15\n",
            "summation using functions 15\n"
          ]
        }
      ],
      "source": [
        "def sum_using_loops(array):\n",
        "  summation = 0;\n",
        "  for value in array:\n",
        "    summation += value;\n",
        "  return summation;\n",
        "\n",
        "def sum_using_functions(array):\n",
        "  return sum(array)\n",
        "\n",
        "print(\"summation using loops {a}\".format(a = sum_using_loops([1,2,3,4,5])))\n",
        "print(\"summation using functions {a}\".format(a = sum_using_functions([1,2,3,4,5])))"
      ]
    },
    {
      "cell_type": "markdown",
      "source": [
        "##Write a Python program to Multiply all numbers in the list?"
      ],
      "metadata": {
        "id": "EPv6p-dCTHbq"
      }
    },
    {
      "cell_type": "code",
      "source": [
        "def mul_using_loops(array):\n",
        "  summation = 1;\n",
        "  for value in array:\n",
        "    summation *= value;\n",
        "  return summation;\n",
        "\n",
        "def mul_using_functions(array):\n",
        "  return reduce((lambda x, y: x * y), array)\n",
        "\n",
        "print(\"summation using loops {a}\".format(a = mul_using_loops([1,2,3,4,5])))\n",
        "print(\"summation using functions {a}\".format(a = mul_using_functions([1,2,3,4,5])))"
      ],
      "metadata": {
        "colab": {
          "base_uri": "https://localhost:8080/"
        },
        "id": "qIdLYQjUTI16",
        "outputId": "e2251831-84e4-43f7-a780-305eaa132654"
      },
      "execution_count": 5,
      "outputs": [
        {
          "output_type": "stream",
          "name": "stdout",
          "text": [
            "summation using loops 120\n",
            "summation using functions 120\n"
          ]
        }
      ]
    },
    {
      "cell_type": "markdown",
      "source": [
        "##Write a Python program to find smallest number in a list?"
      ],
      "metadata": {
        "id": "8FTpVH1-TpIy"
      }
    },
    {
      "cell_type": "code",
      "source": [
        "def small_num_in_list(array):\n",
        "  temp = array[0];\n",
        "  for value in array:\n",
        "    if value < temp:\n",
        "      temp = value;\n",
        "  return temp;\n",
        "def small_num_list_functions(array):\n",
        "  return min(array)\n",
        "print(\"smallest number in the list using loops {}\".format(small_num_in_list([5,4,3,2,1,0,-1])))\n",
        "print(\"smallest number in the list using functions {}\".format(small_num_list_functions([5,4,3,2,1,0,-1])))"
      ],
      "metadata": {
        "colab": {
          "base_uri": "https://localhost:8080/"
        },
        "id": "q0EBtKCOTraB",
        "outputId": "321f6764-d78a-490b-f74d-b2029b064ca6"
      },
      "execution_count": 16,
      "outputs": [
        {
          "output_type": "stream",
          "name": "stdout",
          "text": [
            "smallest number in the list using loops -1\n",
            "smallest number in the list using functions -1\n"
          ]
        }
      ]
    },
    {
      "cell_type": "markdown",
      "source": [
        "##Write a Python program to find largest number in a list?"
      ],
      "metadata": {
        "id": "A2MkCtJ5U1j6"
      }
    },
    {
      "cell_type": "code",
      "source": [
        "def large_num_in_list(array):\n",
        "  temp = array[0];\n",
        "  for value in array:\n",
        "    if value > temp:\n",
        "      temp = value;\n",
        "  return temp;\n",
        "def large_num_list_functions(array):\n",
        "  return max(array)\n",
        "print(\"large number in the list using loops {}\".format(large_num_in_list([5,4,3,2,1,0,-1])))\n",
        "print(\"large number in the list using functions {}\".format(large_num_list_functions([5,4,3,2,1,0,-1])))"
      ],
      "metadata": {
        "colab": {
          "base_uri": "https://localhost:8080/"
        },
        "id": "JLS_0_tNU34R",
        "outputId": "dffc7b49-ca83-455a-b16d-539fafa75771"
      },
      "execution_count": 17,
      "outputs": [
        {
          "output_type": "stream",
          "name": "stdout",
          "text": [
            "large number in the list using loops 5\n",
            "large number in the list using functions 5\n"
          ]
        }
      ]
    },
    {
      "cell_type": "markdown",
      "source": [
        "##Write a Python program to find second largest number in a list?:"
      ],
      "metadata": {
        "id": "vSq-lOq7ahRI"
      }
    },
    {
      "cell_type": "code",
      "source": [
        "def second_largest(array):\n",
        "  new_array = set(array)\n",
        "  new_array.remove(max(new_array))\n",
        "  return max(new_array)\n",
        "print('second largest in the list:-',second_largest([10, 20, 4, 45, 99, 45]))"
      ],
      "metadata": {
        "colab": {
          "base_uri": "https://localhost:8080/"
        },
        "id": "OFFnUd5DahmQ",
        "outputId": "1005966f-ee19-446e-bfba-d4b132156e70"
      },
      "execution_count": 39,
      "outputs": [
        {
          "output_type": "stream",
          "name": "stdout",
          "text": [
            "second largest in the list:- 45\n"
          ]
        }
      ]
    },
    {
      "cell_type": "markdown",
      "source": [
        "##Write a Python program to find N largest elements from a list?"
      ],
      "metadata": {
        "id": "MJQ9izK8ZktY"
      }
    },
    {
      "cell_type": "code",
      "source": [
        "def n_largest_element(array,n):\n",
        "  array.sort(reverse=True);\n",
        "  return [array[value] for value in range(0,n+1)]\n",
        "a = [1,2,3,4,5,6,7,8,8,9]\n",
        "print(n_largest_element(a,5))"
      ],
      "metadata": {
        "colab": {
          "base_uri": "https://localhost:8080/"
        },
        "id": "GOh1DeD5ZnTY",
        "outputId": "a0ff2210-86c8-48f4-808a-57ccd348636b"
      },
      "execution_count": 38,
      "outputs": [
        {
          "output_type": "stream",
          "name": "stdout",
          "text": [
            "[9, 8, 8, 7, 6, 5]\n"
          ]
        }
      ]
    },
    {
      "cell_type": "markdown",
      "source": [
        "##Write a Python program to print even numbers in a list?"
      ],
      "metadata": {
        "id": "6fZexHtMZg5a"
      }
    },
    {
      "cell_type": "code",
      "source": [
        "def even_num(array):\n",
        "  return [value for value in array if value & 1 == 0]\n",
        "array= [1,2,3,4,5,6]\n",
        "print(even_num(array))"
      ],
      "metadata": {
        "colab": {
          "base_uri": "https://localhost:8080/"
        },
        "id": "cXX8qt97ZcyJ",
        "outputId": "2539ec65-a429-4d8d-86b7-b99e96b77327"
      },
      "execution_count": 35,
      "outputs": [
        {
          "output_type": "stream",
          "name": "stdout",
          "text": [
            "[2, 4, 6]\n"
          ]
        }
      ]
    },
    {
      "cell_type": "markdown",
      "source": [
        "##Write a Python program to print odd numbers in a List?"
      ],
      "metadata": {
        "id": "02mfsdgFZL14"
      }
    },
    {
      "cell_type": "code",
      "source": [
        "def odd_num(array):\n",
        "  return [value for value in array if value & 1 == 1]\n",
        "array= [1,2,3,4,5,6]\n",
        "print(odd_num(array))"
      ],
      "metadata": {
        "colab": {
          "base_uri": "https://localhost:8080/"
        },
        "id": "LYBgYgAFZMjA",
        "outputId": "fab34c99-f350-4955-8e9e-d311e9c33b28"
      },
      "execution_count": 34,
      "outputs": [
        {
          "output_type": "stream",
          "name": "stdout",
          "text": [
            "[1, 3, 5]\n"
          ]
        }
      ]
    },
    {
      "cell_type": "markdown",
      "source": [
        "##Write a Python program to Remove empty List from List?"
      ],
      "metadata": {
        "id": "GC5RCnG7Y4na"
      }
    },
    {
      "cell_type": "code",
      "source": [
        "array = []\n",
        "if len(array) == 0:\n",
        "  del array;\n",
        "print(array)"
      ],
      "metadata": {
        "id": "YROJ2CjxY5hg"
      },
      "execution_count": 32,
      "outputs": []
    },
    {
      "cell_type": "markdown",
      "source": [
        "##Write a Python program to Cloning or Copying a list?"
      ],
      "metadata": {
        "id": "trHtd2Y5YTe5"
      }
    },
    {
      "cell_type": "code",
      "source": [
        "def clone(array):\n",
        "  cloned = array;\n",
        "  return cloned;\n",
        "array = [1,2,3,4,5,6]\n",
        "print('copy of array {} is {}'.format(array,clone(array)))"
      ],
      "metadata": {
        "colab": {
          "base_uri": "https://localhost:8080/"
        },
        "id": "5I-AxX_HYUXo",
        "outputId": "3caa8e14-dd6e-4224-ab54-f6b176df8ac0"
      },
      "execution_count": 28,
      "outputs": [
        {
          "output_type": "stream",
          "name": "stdout",
          "text": [
            "copy of array [1, 2, 3, 4, 5, 6] is [1, 2, 3, 4, 5, 6]\n"
          ]
        }
      ]
    },
    {
      "cell_type": "markdown",
      "source": [
        "##Write a Python program to Count occurrences of an element in a list?"
      ],
      "metadata": {
        "id": "ZkKwWou5X7Cp"
      }
    },
    {
      "cell_type": "code",
      "source": [
        "def count_occurance(array,value):\n",
        "  count = 0;\n",
        "  for x in array:\n",
        "    if x == value:\n",
        "      count +=1;\n",
        "  return count;\n",
        "print('count of value occurance {}'.format(count_occurance([1,2,3,4,4,4,4,4,5],4)))"
      ],
      "metadata": {
        "colab": {
          "base_uri": "https://localhost:8080/"
        },
        "id": "DhTLA7ecX8hS",
        "outputId": "40be8b45-782c-474f-9bf5-ae7dea0642d3"
      },
      "execution_count": 25,
      "outputs": [
        {
          "output_type": "stream",
          "name": "stdout",
          "text": [
            "count of value occurance 5\n"
          ]
        }
      ]
    }
  ]
}