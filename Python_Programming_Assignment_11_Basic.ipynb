{
  "nbformat": 4,
  "nbformat_minor": 0,
  "metadata": {
    "colab": {
      "name": "Python_Programming_Assignment_11_Basic.ipynb",
      "provenance": [],
      "collapsed_sections": [],
      "authorship_tag": "ABX9TyP/2a40zWakJcR5fxj5wh9w"
    },
    "kernelspec": {
      "name": "python3",
      "display_name": "Python 3"
    },
    "language_info": {
      "name": "python"
    }
  },
  "cells": [
    {
      "cell_type": "markdown",
      "source": [
        "#Python_Programming_Assignment_11_Basic\n",
        "\n",
        "By Sai Murali Pavan Rayavarapu"
      ],
      "metadata": {
        "id": "NdXzoSuShRXi"
      }
    },
    {
      "cell_type": "markdown",
      "source": [
        "##Write a Python program to find words which are greater than given length k?"
      ],
      "metadata": {
        "id": "gn4weOvHhWbi"
      }
    },
    {
      "cell_type": "code",
      "source": [
        "def words_with_length(string,k):\n",
        "  return [word for word in string.split() if len(word) >=k]\n",
        "string = input('enter the string for counts:-')\n",
        "k = int(input('enter the length:-'))\n",
        "print('words greater than {} are {}'.format(k,words_with_length(string,k)))"
      ],
      "metadata": {
        "colab": {
          "base_uri": "https://localhost:8080/"
        },
        "id": "AUl3v9DAhZwf",
        "outputId": "9563f0c4-3936-435d-a14f-0ee4ea6fe580"
      },
      "execution_count": 2,
      "outputs": [
        {
          "output_type": "stream",
          "name": "stdout",
          "text": [
            "enter the string for counts:-SAI MURALI PAVAN RAYAVARAPU\n",
            "enter the length:-6\n",
            "words greater than 6 are ['MURALI', 'RAYAVARAPU']\n"
          ]
        }
      ]
    },
    {
      "cell_type": "markdown",
      "source": [
        "##Write a Python program for removing i-th character from a string?"
      ],
      "metadata": {
        "id": "AY_6GAAiqExo"
      }
    },
    {
      "cell_type": "code",
      "source": [
        "def remove_ith(string,i):\n",
        "  return string[:i] + string[i+1:]\n",
        "string = input('enter the string for task:-')\n",
        "i = int(input('enter the ith location:-'))\n",
        "print('words after removing the {} are {}'.format(i,remove_ith(string,i)))"
      ],
      "metadata": {
        "colab": {
          "base_uri": "https://localhost:8080/"
        },
        "id": "vvRbN9ywqNEo",
        "outputId": "a1d25457-d643-46f3-b2ab-852ed20a597c"
      },
      "execution_count": 4,
      "outputs": [
        {
          "output_type": "stream",
          "name": "stdout",
          "text": [
            "enter the string for task:-saimurali\n",
            "enter the ith location:-4\n",
            "words greater than 4 are saimrali\n"
          ]
        }
      ]
    },
    {
      "cell_type": "markdown",
      "source": [
        "##Write a Python program to split and join a string?"
      ],
      "metadata": {
        "id": "yN_uZLfJrWYM"
      }
    },
    {
      "cell_type": "code",
      "source": [
        "def split_and_join(string,splitby):\n",
        "  return splitby.join(string.split(splitby))\n",
        "string = input('enter the string for task:-')\n",
        "splitby = input('enter the ith location:-')\n",
        "print('words splitted and joined {} are {}'.format(splitby,split_and_join(string,splitby)))"
      ],
      "metadata": {
        "colab": {
          "base_uri": "https://localhost:8080/"
        },
        "id": "5C3jEOS_rXuu",
        "outputId": "563b67ec-538e-4c10-fd8d-3120a8e23546"
      },
      "execution_count": 8,
      "outputs": [
        {
          "output_type": "stream",
          "name": "stdout",
          "text": [
            "enter the string for task:-sai murali-rayavarapu\n",
            "enter the ith location:--\n",
            "words splitted and joined - are sai murali-rayavarapu\n"
          ]
        }
      ]
    },
    {
      "cell_type": "markdown",
      "source": [
        "##Write a Python to check if a given string is binary string or not?"
      ],
      "metadata": {
        "id": "vznJ4_BjsHzv"
      }
    },
    {
      "cell_type": "code",
      "source": [
        "def string_bin_not(string):\n",
        "  temp,temp2 = {'0','1'},{'1','0'}\n",
        "  string_set = set(string)\n",
        "  if string_set == (temp or temp2):\n",
        "    return \"YES\"\n",
        "  else:\n",
        "    return \"NO\"\n",
        "\n",
        "string = input('enter the string for task:-')\n",
        "print(\"{} is {} binary \".format(string,string_bin_not(string\n",
        "                                                      )))"
      ],
      "metadata": {
        "colab": {
          "base_uri": "https://localhost:8080/"
        },
        "id": "obWLaRDKsLnv",
        "outputId": "10fe19ac-82d1-471c-8694-1f3724750b4b"
      },
      "execution_count": 15,
      "outputs": [
        {
          "output_type": "stream",
          "name": "stdout",
          "text": [
            "enter the string for task:-geeks101001\n",
            "geeks101001 is NO binary \n"
          ]
        }
      ]
    },
    {
      "cell_type": "markdown",
      "source": [
        "##Write a Python program to find uncommon words from two Strings?"
      ],
      "metadata": {
        "id": "nXt9wPmLzFsp"
      }
    },
    {
      "cell_type": "code",
      "source": [
        "def uncommon(string1,string2):\n",
        "  string1_list = set(string1.split())\n",
        "  string2_list = set(string2.split())\n",
        "  return string1_list.symmetric_difference(string2_list)\n",
        "string1 = input('enter string1:-')\n",
        "string2 = input('enter string2:-')\n",
        "print(uncommon(string1,string2))"
      ],
      "metadata": {
        "colab": {
          "base_uri": "https://localhost:8080/"
        },
        "id": "SfNVfbEJzN2L",
        "outputId": "53f79d09-796b-4d9c-9a07-151e6d0d0a4e"
      },
      "execution_count": 19,
      "outputs": [
        {
          "output_type": "stream",
          "name": "stdout",
          "text": [
            "enter string1:-sai murali pavan\n",
            "enter string2:-pavan rayavarapu\n",
            "{'rayavarapu', 'sai', 'murali'}\n"
          ]
        }
      ]
    },
    {
      "cell_type": "markdown",
      "source": [
        "##Write a Python to find all duplicate characters in string?"
      ],
      "metadata": {
        "id": "5Op35Q_11bAx"
      }
    },
    {
      "cell_type": "code",
      "source": [
        "def dup_char(string):\n",
        "  dup_data = {}\n",
        "  values = []\n",
        "  for x in string: \n",
        "    if x in dup_data.keys():\n",
        "      dup_data[x] = dup_data[x] + 1\n",
        "    else:\n",
        "      dup_data[x] = 1;\n",
        "  return [x for x in dup_data.keys() if dup_data[x] >=2]\n",
        "string = input('enter the string')\n",
        "print(dup_char(string))"
      ],
      "metadata": {
        "colab": {
          "base_uri": "https://localhost:8080/"
        },
        "id": "9zTKxdYj1crp",
        "outputId": "338b1ef6-139f-41c6-aa6c-5115f65b00f3"
      },
      "execution_count": 23,
      "outputs": [
        {
          "output_type": "stream",
          "name": "stdout",
          "text": [
            "enter the stringrayavarapu\n",
            "['r', 'a']\n"
          ]
        }
      ]
    },
    {
      "cell_type": "markdown",
      "source": [
        "##Write a Python Program to check if a string contains any special character?"
      ],
      "metadata": {
        "id": "fJAJdiTx2XSi"
      }
    },
    {
      "cell_type": "code",
      "source": [
        "def chck_spc_char(string):\n",
        "  ischar = False;\n",
        "  for char in string:\n",
        "    if char in \"!@##$%^&*(){}|:<>?~\":\n",
        "      ischar = True;\n",
        "      break\n",
        "    else:\n",
        "      continue\n",
        "  if ischar:\n",
        "    return \"yes\"\n",
        "  return \"no\"\n",
        "\n",
        "string = input('enter the string:-')\n",
        "print(chck_spc_char(string))"
      ],
      "metadata": {
        "colab": {
          "base_uri": "https://localhost:8080/"
        },
        "id": "QEngp-dl2YUG",
        "outputId": "2817fbed-bc07-43ff-ad98-506fedcc7a7f"
      },
      "execution_count": 25,
      "outputs": [
        {
          "output_type": "stream",
          "name": "stdout",
          "text": [
            "enter the string:-!sai\n",
            "yes\n"
          ]
        }
      ]
    }
  ]
}