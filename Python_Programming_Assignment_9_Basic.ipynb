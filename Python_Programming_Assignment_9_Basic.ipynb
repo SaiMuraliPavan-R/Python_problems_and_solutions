{
  "nbformat": 4,
  "nbformat_minor": 0,
  "metadata": {
    "colab": {
      "name": "Python_Programming_Assignment_9_Basic.ipynb",
      "provenance": [],
      "collapsed_sections": [],
      "authorship_tag": "ABX9TyOzp5erHa/AGXT8ujQDubZt"
    },
    "kernelspec": {
      "name": "python3",
      "display_name": "Python 3"
    },
    "language_info": {
      "name": "python"
    }
  },
  "cells": [
    {
      "cell_type": "markdown",
      "source": [
        "#Python_Programming_Assignment_9_Basic\n",
        "\n",
        "By Sai Murali Pavan Rayavarapu"
      ],
      "metadata": {
        "id": "grY-GyM9fZjy"
      }
    },
    {
      "cell_type": "markdown",
      "source": [
        "#import required modules"
      ],
      "metadata": {
        "id": "Pve8y0DRuX0W"
      }
    },
    {
      "cell_type": "code",
      "source": [
        "import math as m"
      ],
      "metadata": {
        "id": "AKu-GwFQuVn2"
      },
      "execution_count": 28,
      "outputs": []
    },
    {
      "cell_type": "markdown",
      "source": [
        "#Write a Python program to check if the given number is a Disarium Number?"
      ],
      "metadata": {
        "id": "FFgKDgDQfdpf"
      }
    },
    {
      "cell_type": "code",
      "source": [
        "def Disarium_num(n):\n",
        "  length = len(str(n))\n",
        "  value = 0;\n",
        "  while n > 0:\n",
        "    r = n %10;\n",
        "    value += (r**length)\n",
        "    length = length -1;\n",
        "    n = n//10;\n",
        "  return value;\n",
        "\n",
        "n = int(input('Enter the number to check Disarium or not :- '))\n",
        "if n == Disarium_num(n):\n",
        "  print(\"{a} is a Disarium number\".format(a = n))\n",
        "else:\n",
        "  print(\"{a} is not a Disarium number\".format(a = n))"
      ],
      "metadata": {
        "colab": {
          "base_uri": "https://localhost:8080/"
        },
        "id": "spnPLuUGfeup",
        "outputId": "57be6930-69a0-4287-e6f2-88ba5c74121f"
      },
      "execution_count": 18,
      "outputs": [
        {
          "output_type": "stream",
          "name": "stdout",
          "text": [
            "Enter the number to check Disarium or not :- 135\n",
            "135 is a Disarium number\n"
          ]
        }
      ]
    },
    {
      "cell_type": "markdown",
      "source": [
        "#Write a Python program to print all disarium numbers between 1 to 100?"
      ],
      "metadata": {
        "id": "voAwVe72jtsY"
      }
    },
    {
      "cell_type": "code",
      "source": [
        "for n in range(1,101):\n",
        "  if n == Disarium_num(n):\n",
        "    print(\"{a} is a Disarium number\".format(a = n))\n",
        "  else:\n",
        "    print(\"{a} is not a Disarium number\".format(a = n))"
      ],
      "metadata": {
        "colab": {
          "base_uri": "https://localhost:8080/"
        },
        "id": "8gh5XXKJjuk0",
        "outputId": "05312f2f-a0e5-48ca-f5aa-907a1c3335c6"
      },
      "execution_count": 19,
      "outputs": [
        {
          "output_type": "stream",
          "name": "stdout",
          "text": [
            "1 is a Disarium number\n",
            "2 is a Disarium number\n",
            "3 is a Disarium number\n",
            "4 is a Disarium number\n",
            "5 is a Disarium number\n",
            "6 is a Disarium number\n",
            "7 is a Disarium number\n",
            "8 is a Disarium number\n",
            "9 is a Disarium number\n",
            "10 is not a Disarium number\n",
            "11 is not a Disarium number\n",
            "12 is not a Disarium number\n",
            "13 is not a Disarium number\n",
            "14 is not a Disarium number\n",
            "15 is not a Disarium number\n",
            "16 is not a Disarium number\n",
            "17 is not a Disarium number\n",
            "18 is not a Disarium number\n",
            "19 is not a Disarium number\n",
            "20 is not a Disarium number\n",
            "21 is not a Disarium number\n",
            "22 is not a Disarium number\n",
            "23 is not a Disarium number\n",
            "24 is not a Disarium number\n",
            "25 is not a Disarium number\n",
            "26 is not a Disarium number\n",
            "27 is not a Disarium number\n",
            "28 is not a Disarium number\n",
            "29 is not a Disarium number\n",
            "30 is not a Disarium number\n",
            "31 is not a Disarium number\n",
            "32 is not a Disarium number\n",
            "33 is not a Disarium number\n",
            "34 is not a Disarium number\n",
            "35 is not a Disarium number\n",
            "36 is not a Disarium number\n",
            "37 is not a Disarium number\n",
            "38 is not a Disarium number\n",
            "39 is not a Disarium number\n",
            "40 is not a Disarium number\n",
            "41 is not a Disarium number\n",
            "42 is not a Disarium number\n",
            "43 is not a Disarium number\n",
            "44 is not a Disarium number\n",
            "45 is not a Disarium number\n",
            "46 is not a Disarium number\n",
            "47 is not a Disarium number\n",
            "48 is not a Disarium number\n",
            "49 is not a Disarium number\n",
            "50 is not a Disarium number\n",
            "51 is not a Disarium number\n",
            "52 is not a Disarium number\n",
            "53 is not a Disarium number\n",
            "54 is not a Disarium number\n",
            "55 is not a Disarium number\n",
            "56 is not a Disarium number\n",
            "57 is not a Disarium number\n",
            "58 is not a Disarium number\n",
            "59 is not a Disarium number\n",
            "60 is not a Disarium number\n",
            "61 is not a Disarium number\n",
            "62 is not a Disarium number\n",
            "63 is not a Disarium number\n",
            "64 is not a Disarium number\n",
            "65 is not a Disarium number\n",
            "66 is not a Disarium number\n",
            "67 is not a Disarium number\n",
            "68 is not a Disarium number\n",
            "69 is not a Disarium number\n",
            "70 is not a Disarium number\n",
            "71 is not a Disarium number\n",
            "72 is not a Disarium number\n",
            "73 is not a Disarium number\n",
            "74 is not a Disarium number\n",
            "75 is not a Disarium number\n",
            "76 is not a Disarium number\n",
            "77 is not a Disarium number\n",
            "78 is not a Disarium number\n",
            "79 is not a Disarium number\n",
            "80 is not a Disarium number\n",
            "81 is not a Disarium number\n",
            "82 is not a Disarium number\n",
            "83 is not a Disarium number\n",
            "84 is not a Disarium number\n",
            "85 is not a Disarium number\n",
            "86 is not a Disarium number\n",
            "87 is not a Disarium number\n",
            "88 is not a Disarium number\n",
            "89 is a Disarium number\n",
            "90 is not a Disarium number\n",
            "91 is not a Disarium number\n",
            "92 is not a Disarium number\n",
            "93 is not a Disarium number\n",
            "94 is not a Disarium number\n",
            "95 is not a Disarium number\n",
            "96 is not a Disarium number\n",
            "97 is not a Disarium number\n",
            "98 is not a Disarium number\n",
            "99 is not a Disarium number\n",
            "100 is not a Disarium number\n"
          ]
        }
      ]
    },
    {
      "cell_type": "markdown",
      "source": [
        "#Write a Python program to check if the given number is Happy Number?"
      ],
      "metadata": {
        "id": "-hzxbR8YvUBJ"
      }
    },
    {
      "cell_type": "code",
      "source": [
        "def happy_num(n):\n",
        "  backup_of_n = n;\n",
        "  checker_set = set()\n",
        "  while n!=1:\n",
        "    sum_of_n = sum([int(x)**2 for x in str(n)])\n",
        "    if n in checker_set:\n",
        "      return False;\n",
        "    checker_set.add(n)\n",
        "    n = sum_of_n;\n",
        "  return True;\n",
        "\n",
        "n = int(input(\"enter a number to check for happy or not:-\"))\n",
        "if happy_num(n):\n",
        "  print(\"{a} is a happy number\".format(a =n))\n",
        "else:\n",
        "  print(\"{a} is not a happy number\".format(a =n))"
      ],
      "metadata": {
        "colab": {
          "base_uri": "https://localhost:8080/"
        },
        "id": "eelOEVzCvU-h",
        "outputId": "6bdd1547-355d-40cd-a66f-7216c0b6c01a"
      },
      "execution_count": 89,
      "outputs": [
        {
          "output_type": "stream",
          "name": "stdout",
          "text": [
            "enter a number to check for happy or not:-19\n",
            "19 is a happy number\n"
          ]
        }
      ]
    },
    {
      "cell_type": "markdown",
      "source": [
        "#5. Write a Python program to determine whether the given number is a Harshad Number?"
      ],
      "metadata": {
        "id": "6ceHxh9x7WDf"
      }
    },
    {
      "cell_type": "code",
      "source": [
        "for n in range(1,101):\n",
        "  if happy_num(n):\n",
        "    print(\"{a} is a happy number\".format(a =n))\n",
        "  else:\n",
        "    print(\"{a} is not a happy number\".format(a =n))"
      ],
      "metadata": {
        "colab": {
          "base_uri": "https://localhost:8080/"
        },
        "id": "mfmR6U3E7Zgl",
        "outputId": "0ded8ea6-3508-445a-ca1c-6378a4f1d07f"
      },
      "execution_count": 90,
      "outputs": [
        {
          "output_type": "stream",
          "name": "stdout",
          "text": [
            "1 is a happy number\n",
            "2 is not a happy number\n",
            "3 is not a happy number\n",
            "4 is not a happy number\n",
            "5 is not a happy number\n",
            "6 is not a happy number\n",
            "7 is a happy number\n",
            "8 is not a happy number\n",
            "9 is not a happy number\n",
            "10 is a happy number\n",
            "11 is not a happy number\n",
            "12 is not a happy number\n",
            "13 is a happy number\n",
            "14 is not a happy number\n",
            "15 is not a happy number\n",
            "16 is not a happy number\n",
            "17 is not a happy number\n",
            "18 is not a happy number\n",
            "19 is a happy number\n",
            "20 is not a happy number\n",
            "21 is not a happy number\n",
            "22 is not a happy number\n",
            "23 is a happy number\n",
            "24 is not a happy number\n",
            "25 is not a happy number\n",
            "26 is not a happy number\n",
            "27 is not a happy number\n",
            "28 is a happy number\n",
            "29 is not a happy number\n",
            "30 is not a happy number\n",
            "31 is a happy number\n",
            "32 is a happy number\n",
            "33 is not a happy number\n",
            "34 is not a happy number\n",
            "35 is not a happy number\n",
            "36 is not a happy number\n",
            "37 is not a happy number\n",
            "38 is not a happy number\n",
            "39 is not a happy number\n",
            "40 is not a happy number\n",
            "41 is not a happy number\n",
            "42 is not a happy number\n",
            "43 is not a happy number\n",
            "44 is a happy number\n",
            "45 is not a happy number\n",
            "46 is not a happy number\n",
            "47 is not a happy number\n",
            "48 is not a happy number\n",
            "49 is a happy number\n",
            "50 is not a happy number\n",
            "51 is not a happy number\n",
            "52 is not a happy number\n",
            "53 is not a happy number\n",
            "54 is not a happy number\n",
            "55 is not a happy number\n",
            "56 is not a happy number\n",
            "57 is not a happy number\n",
            "58 is not a happy number\n",
            "59 is not a happy number\n",
            "60 is not a happy number\n",
            "61 is not a happy number\n",
            "62 is not a happy number\n",
            "63 is not a happy number\n",
            "64 is not a happy number\n",
            "65 is not a happy number\n",
            "66 is not a happy number\n",
            "67 is not a happy number\n",
            "68 is a happy number\n",
            "69 is not a happy number\n",
            "70 is a happy number\n",
            "71 is not a happy number\n",
            "72 is not a happy number\n",
            "73 is not a happy number\n",
            "74 is not a happy number\n",
            "75 is not a happy number\n",
            "76 is not a happy number\n",
            "77 is not a happy number\n",
            "78 is not a happy number\n",
            "79 is a happy number\n",
            "80 is not a happy number\n",
            "81 is not a happy number\n",
            "82 is a happy number\n",
            "83 is not a happy number\n",
            "84 is not a happy number\n",
            "85 is not a happy number\n",
            "86 is a happy number\n",
            "87 is not a happy number\n",
            "88 is not a happy number\n",
            "89 is not a happy number\n",
            "90 is not a happy number\n",
            "91 is a happy number\n",
            "92 is not a happy number\n",
            "93 is not a happy number\n",
            "94 is a happy number\n",
            "95 is not a happy number\n",
            "96 is not a happy number\n",
            "97 is a happy number\n",
            "98 is not a happy number\n",
            "99 is not a happy number\n",
            "100 is a happy number\n"
          ]
        }
      ]
    },
    {
      "cell_type": "markdown",
      "source": [
        "#Write a Python program to determine whether the given number is a Harshad Number?"
      ],
      "metadata": {
        "id": "vBIn0Ol-j9Dg"
      }
    },
    {
      "cell_type": "code",
      "source": [
        "def harshad_num(n):\n",
        "  divident = 0;\n",
        "  divisor = n;\n",
        "  while n > 0:\n",
        "    divident += (n%10)\n",
        "    n = n//10;\n",
        "  if (divisor % divident) == 0:\n",
        "    return True;\n",
        "  else:\n",
        "    return False;\n",
        "n = int(input('Enter the number to check harshad number:- '))\n",
        "if harshad_num(n):\n",
        "  print(\"{a} is a harshad number\".format(a=n))\n",
        "else:\n",
        "  print(\"{a} is not a harshad number\".format(a=n))"
      ],
      "metadata": {
        "colab": {
          "base_uri": "https://localhost:8080/"
        },
        "id": "JkyhJO3-rnLw",
        "outputId": "236be761-c642-492a-c2c3-6d2c7df13235"
      },
      "execution_count": 27,
      "outputs": [
        {
          "output_type": "stream",
          "name": "stdout",
          "text": [
            "Enter the number to check harshad number:- 10\n",
            "10 is a harshad number\n"
          ]
        }
      ]
    },
    {
      "cell_type": "markdown",
      "source": [
        "#Write a Python program to print all pronic numbers between 1 and 100?"
      ],
      "metadata": {
        "id": "8A_FJnt2s_qO"
      }
    },
    {
      "cell_type": "code",
      "source": [
        "def pronic_num(n):\n",
        "  sqrt_of_n = int(m.sqrt(n))\n",
        "  if n == (sqrt_of_n * (sqrt_of_n + 1)):\n",
        "    return \"{a} is a pronic number\".format(a=n)\n",
        "  else:\n",
        "    return \"{a} is not a pronic number\".format(a=n)\n",
        "\n",
        "for n in range(1,101):\n",
        "  print(pronic_num(n))"
      ],
      "metadata": {
        "colab": {
          "base_uri": "https://localhost:8080/"
        },
        "id": "sY9qBf0nuQPM",
        "outputId": "89c59b27-49d1-4782-a9e7-302754acd506"
      },
      "execution_count": 34,
      "outputs": [
        {
          "output_type": "stream",
          "name": "stdout",
          "text": [
            "1 is not a pronic number\n",
            "2 is a pronic number\n",
            "3 is not a pronic number\n",
            "4 is not a pronic number\n",
            "5 is not a pronic number\n",
            "6 is a pronic number\n",
            "7 is not a pronic number\n",
            "8 is not a pronic number\n",
            "9 is not a pronic number\n",
            "10 is not a pronic number\n",
            "11 is not a pronic number\n",
            "12 is a pronic number\n",
            "13 is not a pronic number\n",
            "14 is not a pronic number\n",
            "15 is not a pronic number\n",
            "16 is not a pronic number\n",
            "17 is not a pronic number\n",
            "18 is not a pronic number\n",
            "19 is not a pronic number\n",
            "20 is a pronic number\n",
            "21 is not a pronic number\n",
            "22 is not a pronic number\n",
            "23 is not a pronic number\n",
            "24 is not a pronic number\n",
            "25 is not a pronic number\n",
            "26 is not a pronic number\n",
            "27 is not a pronic number\n",
            "28 is not a pronic number\n",
            "29 is not a pronic number\n",
            "30 is a pronic number\n",
            "31 is not a pronic number\n",
            "32 is not a pronic number\n",
            "33 is not a pronic number\n",
            "34 is not a pronic number\n",
            "35 is not a pronic number\n",
            "36 is not a pronic number\n",
            "37 is not a pronic number\n",
            "38 is not a pronic number\n",
            "39 is not a pronic number\n",
            "40 is not a pronic number\n",
            "41 is not a pronic number\n",
            "42 is a pronic number\n",
            "43 is not a pronic number\n",
            "44 is not a pronic number\n",
            "45 is not a pronic number\n",
            "46 is not a pronic number\n",
            "47 is not a pronic number\n",
            "48 is not a pronic number\n",
            "49 is not a pronic number\n",
            "50 is not a pronic number\n",
            "51 is not a pronic number\n",
            "52 is not a pronic number\n",
            "53 is not a pronic number\n",
            "54 is not a pronic number\n",
            "55 is not a pronic number\n",
            "56 is a pronic number\n",
            "57 is not a pronic number\n",
            "58 is not a pronic number\n",
            "59 is not a pronic number\n",
            "60 is not a pronic number\n",
            "61 is not a pronic number\n",
            "62 is not a pronic number\n",
            "63 is not a pronic number\n",
            "64 is not a pronic number\n",
            "65 is not a pronic number\n",
            "66 is not a pronic number\n",
            "67 is not a pronic number\n",
            "68 is not a pronic number\n",
            "69 is not a pronic number\n",
            "70 is not a pronic number\n",
            "71 is not a pronic number\n",
            "72 is a pronic number\n",
            "73 is not a pronic number\n",
            "74 is not a pronic number\n",
            "75 is not a pronic number\n",
            "76 is not a pronic number\n",
            "77 is not a pronic number\n",
            "78 is not a pronic number\n",
            "79 is not a pronic number\n",
            "80 is not a pronic number\n",
            "81 is not a pronic number\n",
            "82 is not a pronic number\n",
            "83 is not a pronic number\n",
            "84 is not a pronic number\n",
            "85 is not a pronic number\n",
            "86 is not a pronic number\n",
            "87 is not a pronic number\n",
            "88 is not a pronic number\n",
            "89 is not a pronic number\n",
            "90 is a pronic number\n",
            "91 is not a pronic number\n",
            "92 is not a pronic number\n",
            "93 is not a pronic number\n",
            "94 is not a pronic number\n",
            "95 is not a pronic number\n",
            "96 is not a pronic number\n",
            "97 is not a pronic number\n",
            "98 is not a pronic number\n",
            "99 is not a pronic number\n",
            "100 is not a pronic number\n"
          ]
        }
      ]
    }
  ]
}